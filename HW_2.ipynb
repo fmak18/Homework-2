{
  "nbformat": 4,
  "nbformat_minor": 0,
  "metadata": {
    "colab": {
      "provenance": []
    },
    "kernelspec": {
      "name": "python3",
      "display_name": "Python 3"
    },
    "language_info": {
      "name": "python"
    }
  },
  "cells": [
    {
      "cell_type": "code",
      "execution_count": 17,
      "metadata": {
        "colab": {
          "base_uri": "https://localhost:8080/"
        },
        "id": "TLtJt8q4yHcT",
        "outputId": "3650021b-4908-4634-d900-599a34f937de"
      },
      "outputs": [
        {
          "output_type": "stream",
          "name": "stdout",
          "text": [
            "0\n",
            "1\n",
            "2\n",
            "3\n",
            "4\n"
          ]
        }
      ],
      "source": [
        "#!\n",
        "n=0\n",
        "while n < 10:\n",
        "  print(n)\n",
        "  n=n+1\n",
        "  if n==5:\n",
        "   break"
      ]
    },
    {
      "cell_type": "code",
      "source": [
        "#2\n",
        "n=0\n",
        "while n < 5:\n",
        "  print(n)\n",
        "  n=n+1\n",
        "if n >= 5:\n",
        "  print (f'{n} is not less than 5')\n",
        " "
      ],
      "metadata": {
        "colab": {
          "base_uri": "https://localhost:8080/"
        },
        "id": "u_zxtTQezhmH",
        "outputId": "1b5e5584-ba00-4f7d-d81e-0d1c2494784f"
      },
      "execution_count": 38,
      "outputs": [
        {
          "output_type": "stream",
          "name": "stdout",
          "text": [
            "0\n",
            "1\n",
            "2\n",
            "3\n",
            "4\n",
            "5 is not less than 5\n"
          ]
        }
      ]
    },
    {
      "cell_type": "code",
      "source": [
        "#3\n",
        "fruits = {'grape': 'very much','orange': 'a lot','blueberry': 'a bunch','lychee': 'too much'}\n",
        "for x,y in fruits.items():\n",
        "  print(f'I like {x} {y}')\n",
        "else:\n",
        "  print('apple is really a fruit?')"
      ],
      "metadata": {
        "colab": {
          "base_uri": "https://localhost:8080/"
        },
        "id": "KxijO0x_1MsS",
        "outputId": "274de64c-cdf8-4134-c4de-4ca02e951d1a"
      },
      "execution_count": 56,
      "outputs": [
        {
          "output_type": "stream",
          "name": "stdout",
          "text": [
            "I like grape very much\n",
            "I like orange a lot\n",
            "I like blueberry a bunch\n",
            "I like lychee too much\n",
            "apple is really a fruit?\n"
          ]
        }
      ]
    },
    {
      "cell_type": "code",
      "source": [
        "#4\n",
        "i=1\n",
        "sum=0\n",
        "while i <= 30:\n",
        "  i=i+1\n",
        "  sum+=i\n",
        "print(sum)"
      ],
      "metadata": {
        "colab": {
          "base_uri": "https://localhost:8080/"
        },
        "id": "L0jsQpja3g5l",
        "outputId": "d131836b-7d98-4961-a069-7e45888e7aaf"
      },
      "execution_count": 177,
      "outputs": [
        {
          "output_type": "stream",
          "name": "stdout",
          "text": [
            "495\n"
          ]
        }
      ]
    },
    {
      "cell_type": "code",
      "source": [
        "#5\n",
        "grade = 85\n",
        "if grade >= 90:\n",
        "  print('A') \n",
        "elif grade in range(80,90):\n",
        "  print('B')\n",
        "elif grade in range(70,80):\n",
        "  print('C')\n",
        "elif grade in range(60,70):\n",
        "  print('D')\n",
        "elif grade < 60:\n",
        "  print('F')"
      ],
      "metadata": {
        "colab": {
          "base_uri": "https://localhost:8080/"
        },
        "id": "qPnUM4oe63lR",
        "outputId": "407cf6ef-fe42-4656-daf9-4bf6ba20327c"
      },
      "execution_count": 99,
      "outputs": [
        {
          "output_type": "stream",
          "name": "stdout",
          "text": [
            "B\n"
          ]
        }
      ]
    },
    {
      "cell_type": "code",
      "source": [
        "#6\n",
        "marks = {'Andy':88,'Amy':66,'James':90,'Jules':55,'Arthur':77}\n",
        "#6.1\n",
        "for student, grade in marks.items():\n",
        "  print(student,':',grade)\n"
      ],
      "metadata": {
        "colab": {
          "base_uri": "https://localhost:8080/"
        },
        "id": "7gdTKGwfuUsH",
        "outputId": "7b96c976-13cd-4604-b75f-b70dc57e7082"
      },
      "execution_count": 193,
      "outputs": [
        {
          "output_type": "stream",
          "name": "stdout",
          "text": [
            "Andy : 88\n",
            "Amy : 66\n",
            "James : 90\n",
            "Jules : 55\n",
            "Arthur : 77\n"
          ]
        }
      ]
    },
    {
      "cell_type": "code",
      "source": [
        "#6.2\n",
        "def calculate_grades(marks):\n",
        "    total = sum(marks.values())\n",
        "    mean_grade = total / len(marks)\n",
        "    max_grade =max(marks.values())\n",
        "    min_grade=min(marks.values())\n",
        "    \n",
        "    return mean_grade, max_grade, min_grade\n",
        "\n",
        "marks = {'Andy':88, 'Amy':66, 'James':90, 'Jules':55, 'Arthur':77}\n",
        "\n",
        "mean_grade, max_grade, min_grade = calculate_grades(marks)\n",
        "\n",
        "print(mean_grade)\n",
        "print(max_grade)\n",
        "print(min_grade)"
      ],
      "metadata": {
        "colab": {
          "base_uri": "https://localhost:8080/"
        },
        "id": "5t9DgbMNxBdD",
        "outputId": "6a6de9d5-385a-4619-8642-281ea625439b"
      },
      "execution_count": 2,
      "outputs": [
        {
          "output_type": "stream",
          "name": "stdout",
          "text": [
            "75.2\n",
            "90\n",
            "55\n"
          ]
        }
      ]
    },
    {
      "cell_type": "code",
      "source": [
        "#6.3\n",
        "for key in marks.keys():\n",
        "  print(key)\n",
        "  if 'J' in key:\n",
        "    break"
      ],
      "metadata": {
        "colab": {
          "base_uri": "https://localhost:8080/"
        },
        "id": "NNmDD2_Wr5oj",
        "outputId": "d779e4f9-57a1-427c-9b4f-3bfd91300e51"
      },
      "execution_count": 170,
      "outputs": [
        {
          "output_type": "stream",
          "name": "stdout",
          "text": [
            "Andy\n",
            "Amy\n",
            "James\n"
          ]
        }
      ]
    },
    {
      "cell_type": "code",
      "source": [
        "#6.4\n",
        "for key in marks.keys():\n",
        "  if 'J' in key:\n",
        "    continue\n",
        "  print(key)\n"
      ],
      "metadata": {
        "colab": {
          "base_uri": "https://localhost:8080/"
        },
        "id": "VDoikenst0ak",
        "outputId": "6f52ab4f-d05f-4ee3-e55f-8e4d746fdf62"
      },
      "execution_count": 174,
      "outputs": [
        {
          "output_type": "stream",
          "name": "stdout",
          "text": [
            "Andy\n",
            "Amy\n",
            "Arthur\n"
          ]
        }
      ]
    }
  ]
}